{
 "cells": [
  {
   "cell_type": "markdown",
   "metadata": {},
   "source": [
    "# The Effect of Background Contrast on Perceived Transparency\n",
    "The purpose of this notebook is to create and visualise an example of the stimuli that are created in the bachelor thesis."
   ]
  },
  {
   "cell_type": "code",
   "execution_count": null,
   "metadata": {},
   "outputs": [],
   "source": [
    "import numpy as np\n",
    "from numpy import asarray\n",
    "import matplotlib.pyplot as plt\n",
    "from PIL import Image, ImageDraw\n",
    "import contrast_metrics as cm\n"
   ]
  },
  {
   "cell_type": "code",
   "execution_count": 1,
   "metadata": {},
   "outputs": [],
   "source": [
    "class TextureFactory(object):\n",
    "    \"\"\"\n",
    "    A factory to generate a checkerboard background where the luminance value of each block \n",
    "    is uniformly drawn from the given luminance_values with variable transparency circles.\n",
    "    \n",
    "    Example Usage:\n",
    "\n",
    " >>> f_c = TextureFactory('checkerboard',10,image_width=200)\n",
    ">>> img_c = f_c.get_image(.5, .25, bg_luminance=.5)\n",
    ">>> f_r = TextureFactory('random',2,image_width=200)\n",
    ">>> img_r = f_r.get_image(1, .5)\n",
    "\n",
    "    Parameters\n",
    "    ----------\n",
    "    block_width : int\n",
    "        Determines the \"granularity\" of the texture.\n",
    "    luminance_values : tuple[float], optional\n",
    "    image_width : int, optional\n",
    "    \"\"\"\n",
    "\n",
    "    def __init__(self, block_width, luminance_values=(0., 1.), image_width=480):\n",
    "        self.image_width = image_width\n",
    "\n",
    "        n_blocks = int(np.ceil(image_width / block_width))\n",
    "        r = np.ndarray((n_blocks, n_blocks))\n",
    "        for i in range(block_width):\n",
    "            for j in range(block_width):\n",
    "                if (i % 5) == 0: r[i][j] = luminance_values[j % 5]\n",
    "                if (i % 5) == 1: r[i][j] = luminance_values[(j + 1) % 5]\n",
    "                if (i % 5) == 2: r[i][j] = luminance_values[(j + 2) % 5]\n",
    "                if (i % 5) == 3: r[i][j] = luminance_values[(j + 3) % 5]\n",
    "                if (i % 5) == 4: r[i][j] = luminance_values[(j + 4) % 5]\n",
    "\n",
    "        t = np.repeat(np.repeat(r, block_width, axis=0), block_width, axis=1)\n",
    "        self.texture = t[:image_width, :image_width]\n",
    "\n",
    "\n",
    "\n",
    "    def get_image(self, tau, alpha, circle_radius=150):\n",
    "        \"\"\"\n",
    "        Adds the transparency circle and optionally a cutout background, and returns the image.\n",
    "        Underlying texture remains unchanged for reuse.\n",
    "\n",
    "        Parameters\n",
    "        ----------\n",
    "        tau, alpha: float\n",
    "            alpha blending params of transparency circle.\n",
    "        circle_radius : int, optional\n",
    "        \n",
    "        Returns\n",
    "        -------\n",
    "        np.ndarray\n",
    "            Grayscale image as a square matrix with values between 0 and 1.\n",
    "        \"\"\"\n",
    "        image = self.texture.copy()\n",
    "\n",
    "        # compute distances from image center (=radius) of each pixel\n",
    "        x = np.linspace(-0.5 * self.image_width, 0.5 * self.image_width, self.image_width)\n",
    "        radii = np.sqrt((x ** 2)[np.newaxis] + (x ** 2)[:, np.newaxis])\n",
    "\n",
    "        # add transparent circle\n",
    "        idx = radii <= circle_radius\n",
    "        image[idx] = alpha * image[idx] + (1 - alpha) * tau"
   ]
  },
  {
   "cell_type": "code",
   "execution_count": 2,
   "metadata": {},
   "outputs": [],
   "source": [
    "    def shuffle(a, b, seed):\n",
    "        \"\"\"\"\"\n",
    "        Shuffles the luminance values in the array of luminances so that the checkerboard will be randomly ordered.\n",
    "        \n",
    "        Parameters\n",
    "        ----------\n",
    "        a, b: Any\n",
    "            values in the array to shuffle\n",
    "        seed: Any, optional\n",
    "            Random seed used to initialize the pseudo-random number generator\n",
    "        \n",
    "        Example usage\n",
    "        >>> shuffle(luminace_values2[0], luminace_values2[i + 1], 12345)\n",
    "        \"\"\"\"\"\n",
    "        rand_state = np.random.RandomState(seed)\n",
    "        rand_state.shuffle(a)\n",
    "        rand_state.seed(seed)\n",
    "        rand_state.shuffle(b)"
   ]
  },
  {
   "cell_type": "code",
   "execution_count": 3,
   "metadata": {},
   "outputs": [],
   "source": [
    "    def create_mask(a):\n",
    "        \"\"\"\"\"\n",
    "        Creates a mask in size of the transparent medium of the stimuli\n",
    "        \n",
    "        Parameter\n",
    "        ---------\n",
    "        a: String\n",
    "            a stimulus from which the mask will be created\n",
    "            \n",
    "        Example usage: \n",
    "        >>> create_mask(\"example.png\")\n",
    "        \n",
    "        \"\"\"\"\"\n",
    "        im2 = im2 = Image.open(a)\n",
    "        mask_im = Image.new(\"L\", im2.size, 1)\n",
    "        draw = ImageDraw.Draw(mask_im)\n",
    "        draw.ellipse((239.5, 239.5, 928.5, 928.5), fill=255)\n",
    "        mask_im.save(\"Images/mask.png\", quality=95)"
   ]
  },
  {
   "cell_type": "code",
   "execution_count": 4,
   "metadata": {},
   "outputs": [],
   "source": [
    "    def create_image():\n",
    "        \n",
    "        # compute texture with n-dimensional checkerboard pattern\n",
    "        n = 21\n",
    "        image_width = 480\n",
    "        block_width = image_width // n\n",
    "\n",
    "        tau_circle = 0.5\n",
    "        alpha_circle = 0.5\n",
    "        \n",
    "        \n",
    "        \n",
    "        luminace_values2 = [0.0, 0.25, 0.5, 0.75, 1.0], #[0.05, 0.275, 0.5, 0.725, 0.95], [0.1, 0.3, 0.5, 0.7, 0.9], [0.15, 0.325, 0.5, 0.675, 0.85], [0.2, 0.35, 0.5, 0.65, 0.8], [0.25, 0.375, 0.5, 0.625, 0.75], \\[0.3, 0.4, 0.5, 0.6, 0.7], [0.35, 0.425, 0.5, 0.575, 0.65], [0.4, 0.45, 0.5, 0.55, 0.6], [0.45,0.475,0.5,0.525,0.55]\n",
    "\n",
    "        tau_values = 0.1    # 0.0, 0.2, 0.5, 1.0\n",
    "        alpha_values = 0.2  # 0.1, 0.2, 0.5\n",
    "\n",
    "\n",
    "        for i in range(len(luminace_values2) - 1):\n",
    "            shuffle(luminace_values2[0], luminace_values2[i + 1], 12345)\n",
    "\n",
    "        \n",
    "        f2 = TextureFactory(block_width=block_width,\n",
    "                                image_width=image_width,\n",
    "                                luminance_values=luminace_values2)\n",
    "\n",
    "\n",
    "        # Creating stimuli with background contrast and transparent media with given alpha and tau\n",
    "        filename = f\"Images/{luminance}_contrast_,alpha_{alpha}_tau_{tau}.png\"\n",
    "        img1 = f2.get_image(tau, alpha, bg_luminance=None)\n",
    "        plt.figure()\n",
    "        plt.imshow(img1, cmap='gray', vmin=0, vmax=1)\n",
    "        plt.axis('off')\n",
    "        plt.imshow()\n",
    "        #plt.savefig(filename, dpi=300, bbox_inches='tight')"
   ]
  },
  {
   "cell_type": "code",
   "execution_count": 5,
   "metadata": {},
   "outputs": [
    {
     "ename": "NameError",
     "evalue": "name 'np' is not defined",
     "output_type": "error",
     "traceback": [
      "\u001b[0;31m---------------------------------------------------------------------------\u001b[0m",
      "\u001b[0;31mNameError\u001b[0m                                 Traceback (most recent call last)",
      "\u001b[0;32m<ipython-input-5-0cd41f0881de>\u001b[0m in \u001b[0;36m<module>\u001b[0;34m\u001b[0m\n\u001b[1;32m      1\u001b[0m \u001b[0;32mif\u001b[0m \u001b[0m__name__\u001b[0m \u001b[0;34m==\u001b[0m \u001b[0;34m\"__main__\"\u001b[0m\u001b[0;34m:\u001b[0m\u001b[0;34m\u001b[0m\u001b[0;34m\u001b[0m\u001b[0m\n\u001b[0;32m----> 2\u001b[0;31m     \u001b[0mcreate_image\u001b[0m\u001b[0;34m(\u001b[0m\u001b[0;34m)\u001b[0m\u001b[0;34m\u001b[0m\u001b[0;34m\u001b[0m\u001b[0m\n\u001b[0m",
      "\u001b[0;32m<ipython-input-4-d24873d2aad6>\u001b[0m in \u001b[0;36mcreate_image\u001b[0;34m()\u001b[0m\n\u001b[1;32m     21\u001b[0m \u001b[0;34m\u001b[0m\u001b[0m\n\u001b[1;32m     22\u001b[0m \u001b[0;34m\u001b[0m\u001b[0m\n\u001b[0;32m---> 23\u001b[0;31m     f2 = TextureFactory(block_width=block_width,\n\u001b[0m\u001b[1;32m     24\u001b[0m                             \u001b[0mimage_width\u001b[0m\u001b[0;34m=\u001b[0m\u001b[0mimage_width\u001b[0m\u001b[0;34m,\u001b[0m\u001b[0;34m\u001b[0m\u001b[0;34m\u001b[0m\u001b[0m\n\u001b[1;32m     25\u001b[0m                             luminance_values=luminace_values2)\n",
      "\u001b[0;32m<ipython-input-1-b7c0a575371e>\u001b[0m in \u001b[0;36m__init__\u001b[0;34m(self, block_width, luminance_values, image_width)\u001b[0m\n\u001b[1;32m     22\u001b[0m         \u001b[0mself\u001b[0m\u001b[0;34m.\u001b[0m\u001b[0mimage_width\u001b[0m \u001b[0;34m=\u001b[0m \u001b[0mimage_width\u001b[0m\u001b[0;34m\u001b[0m\u001b[0;34m\u001b[0m\u001b[0m\n\u001b[1;32m     23\u001b[0m \u001b[0;34m\u001b[0m\u001b[0m\n\u001b[0;32m---> 24\u001b[0;31m         \u001b[0mn_blocks\u001b[0m \u001b[0;34m=\u001b[0m \u001b[0mint\u001b[0m\u001b[0;34m(\u001b[0m\u001b[0mnp\u001b[0m\u001b[0;34m.\u001b[0m\u001b[0mceil\u001b[0m\u001b[0;34m(\u001b[0m\u001b[0mimage_width\u001b[0m \u001b[0;34m/\u001b[0m \u001b[0mblock_width\u001b[0m\u001b[0;34m)\u001b[0m\u001b[0;34m)\u001b[0m\u001b[0;34m\u001b[0m\u001b[0;34m\u001b[0m\u001b[0m\n\u001b[0m\u001b[1;32m     25\u001b[0m         \u001b[0mr\u001b[0m \u001b[0;34m=\u001b[0m \u001b[0mnp\u001b[0m\u001b[0;34m.\u001b[0m\u001b[0mndarray\u001b[0m\u001b[0;34m(\u001b[0m\u001b[0;34m(\u001b[0m\u001b[0mn_blocks\u001b[0m\u001b[0;34m,\u001b[0m \u001b[0mn_blocks\u001b[0m\u001b[0;34m)\u001b[0m\u001b[0;34m)\u001b[0m\u001b[0;34m\u001b[0m\u001b[0;34m\u001b[0m\u001b[0m\n\u001b[1;32m     26\u001b[0m         \u001b[0;32mfor\u001b[0m \u001b[0mi\u001b[0m \u001b[0;32min\u001b[0m \u001b[0mrange\u001b[0m\u001b[0;34m(\u001b[0m\u001b[0mblock_width\u001b[0m\u001b[0;34m)\u001b[0m\u001b[0;34m:\u001b[0m\u001b[0;34m\u001b[0m\u001b[0;34m\u001b[0m\u001b[0m\n",
      "\u001b[0;31mNameError\u001b[0m: name 'np' is not defined"
     ]
    }
   ],
   "source": [
    "if __name__ == \"__main__\":\n",
    "    create_image()"
   ]
  },
  {
   "cell_type": "code",
   "execution_count": null,
   "metadata": {},
   "outputs": [],
   "source": []
  },
  {
   "cell_type": "code",
   "execution_count": null,
   "metadata": {},
   "outputs": [],
   "source": []
  }
 ],
 "metadata": {
  "kernelspec": {
   "display_name": "Python 3",
   "language": "python",
   "name": "python3"
  },
  "language_info": {
   "codemirror_mode": {
    "name": "ipython",
    "version": 3
   },
   "file_extension": ".py",
   "mimetype": "text/x-python",
   "name": "python",
   "nbconvert_exporter": "python",
   "pygments_lexer": "ipython3",
   "version": "3.8.5"
  }
 },
 "nbformat": 4,
 "nbformat_minor": 4
}
