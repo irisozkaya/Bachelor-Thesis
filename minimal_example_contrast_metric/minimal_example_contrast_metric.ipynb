{
 "cells": [
  {
   "cell_type": "code",
   "execution_count": 1,
   "id": "54de3f0f",
   "metadata": {},
   "outputs": [],
   "source": [
    "from PIL import Image\n",
    "import numpy as np\n",
    "import matplotlib.pyplot as plt\n",
    "\n",
    "# Texture factory creates 2D checkerboards with a transparecy placed on top.\n",
    "from texture_factory import TextureFactory\n",
    "\n",
    "# fixed parameters for the texture factory\n",
    "n = 21\n",
    "image_width = 480\n",
    "block_width = image_width // n"
   ]
  },
  {
   "cell_type": "code",
   "execution_count": 2,
   "id": "6ba38533",
   "metadata": {},
   "outputs": [],
   "source": [
    "# Creating two transparencies with different tau"
   ]
  },
  {
   "cell_type": "code",
   "execution_count": 3,
   "id": "a40761e5",
   "metadata": {},
   "outputs": [
    {
     "name": "stdout",
     "output_type": "stream",
     "text": [
      "array size (480, 480)\n",
      "array size (480, 480)\n",
      "array size (480, 480)\n"
     ]
    }
   ],
   "source": [
    "# background luminance array is fixed, as an example\n",
    "bg_luminance_values = [0.000001, 0.25, 0.5, 0.75, 1.0]\n",
    "\n",
    "# the transparnecy parameters we want to create\n",
    "tau_values = [0.0, 0.5, 1.0]  # 0.0, 0.2, 0.5, 1.0\n",
    "alpha_value = 0.2  # 0.1, 0.2, 0.5\n",
    "\n",
    "# we create the factory once\n",
    "f = TextureFactory('random',\n",
    "                   block_width=block_width, \n",
    "                   image_width=image_width,\n",
    "                   luminance_values=bg_luminance_values)\n",
    "\n",
    "\n",
    "for tau in tau_values:\n",
    "    # here we ask the factory to give us different transparencies, keeping the bg constant\n",
    "    im = f.get_image(tau, alpha_value, bg_luminance=None)\n",
    "    print('array size', im.shape)\n",
    "    \n",
    "    # we need to convert array to PIL and use PIL library to save. MATPLOTLIB is not reliable when saving images\n",
    "    # as it can add unwanted borders\n",
    "    im = Image.fromarray(im*255).convert('L')\n",
    "    im.save('im_{}.png'.format(tau))\n"
   ]
  },
  {
   "cell_type": "code",
   "execution_count": 4,
   "id": "65066aa8",
   "metadata": {},
   "outputs": [
    {
     "name": "stdout",
     "output_type": "stream",
     "text": [
      "array size (480, 480)\n"
     ]
    },
    {
     "data": {
      "text/plain": [
       "array([0., 1.])"
      ]
     },
     "execution_count": 4,
     "metadata": {},
     "output_type": "execute_result"
    },
    {
     "data": {
      "image/png": "[encoded data removed]",
      "text/plain": [
       "<Figure size 432x288 with 1 Axes>"
      ]
     },
     "metadata": {
      "needs_background": "light"
     },
     "output_type": "display_data"
    }
   ],
   "source": [
    "# creating the mask for the inner circle\n",
    "# getting a checkerboard with a complete white opaque transparecy\n",
    "f = TextureFactory('checkerboard',block_width=block_width, image_width=image_width,luminance_values= [0, 0, 0, 1, 1])\n",
    "mask = f.get_image(1, 0, bg_luminance=0.0)\n",
    "\n",
    "print('array size', mask.shape)\n",
    "plt.figure()\n",
    "plt.imshow(mask, cmap='gray', vmin=0, vmax=1)\n",
    "\n",
    "# saving in case we need it in another notebook \n",
    "mask_im = Image.fromarray(mask*255).convert('L')\n",
    "mask_im.save('mask.png')\n",
    "\n",
    "np.unique(mask) # should be only 0 and 1 as the mask is binary"
   ]
  },
  {
   "cell_type": "code",
   "execution_count": 5,
   "id": "c5202a15",
   "metadata": {},
   "outputs": [],
   "source": [
    "# open an image with a transparency\n",
    "im = Image.open('im_0.0.png').convert('L')\n",
    "\n",
    "# convert to numpy array\n",
    "im = np.array(im)\n"
   ]
  },
  {
   "cell_type": "code",
   "execution_count": 6,
   "id": "d7e824fa",
   "metadata": {},
   "outputs": [
    {
     "data": {
      "text/plain": [
       "<matplotlib.image.AxesImage at 0x7fee479d2d90>"
      ]
     },
     "execution_count": 6,
     "metadata": {},
     "output_type": "execute_result"
    },
    {
     "data": {
      "image/png": "[encoded data removed]",
      "text/plain": [
       "<Figure size 432x288 with 1 Axes>"
      ]
     },
     "metadata": {
      "needs_background": "light"
     },
     "output_type": "display_data"
    }
   ],
   "source": [
    "plt.imshow(im, cmap='gray')"
   ]
  },
  {
   "cell_type": "code",
   "execution_count": 7,
   "id": "27dd330a",
   "metadata": {},
   "outputs": [
    {
     "name": "stdout",
     "output_type": "stream",
     "text": [
      "values transparency [0.   0.05 0.1  0.15 0.2 ]\n",
      "surr values [0.   0.25 0.5  0.75 1.  ]\n"
     ]
    }
   ],
   "source": [
    "# now we apply the mask to the numpy array\n",
    "center = im[mask==1.0]\n",
    "\n",
    "# center vector has only the values in the transparent region. We now\n",
    "# get the unique values in it\n",
    "transp_values = np.unique(center)/255\n",
    "print('values transparency', transp_values.round(2))\n",
    "\n",
    "# and we do the same for the surround - region without transparency\n",
    "surr = im[mask==0.0]\n",
    "\n",
    "surr_values = np.unique(surr)/255\n",
    "print('surr values', surr_values.round(2))"
   ]
  },
  {
   "cell_type": "code",
   "execution_count": 8,
   "id": "d9ff0263",
   "metadata": {},
   "outputs": [
    {
     "name": "stdout",
     "output_type": "stream",
     "text": [
      "[1.   1.   1.   1.   0.35 0.52 0.62 0.21 0.34 0.15]\n",
      "SAMLG in transparency region:  -0.675\n"
     ]
    }
   ],
   "source": [
    "# now we can use these values to calculate a contrast metric, for example\n",
    "# the Space-averaged logarithm of Michelson contrast as in the paper Aguilar & Maertens (2022)\n",
    "\n",
    "# Michelson contrast\n",
    "def michelson_contrast(a, b):\n",
    "    return abs(a-b)/(a+b)\n",
    "\n",
    "\n",
    "# we iterate through all pairs of values in transparency\n",
    "n = len(transp_values)\n",
    "\n",
    "contrast_transp = []\n",
    "\n",
    "# contrast between all possible non-identical pairs\n",
    "for i in range(n):\n",
    "    for j in range(i+1, n):\n",
    "        c = michelson_contrast(transp_values [i], transp_values[j])\n",
    "        contrast_transp.append(c)\n",
    "    \n",
    "contrast_transp  = np.array(contrast_transp)\n",
    "print(contrast_transp.round(2))   \n",
    "\n",
    "# we now calculate the log and sum\n",
    "\n",
    "samlg_trasp = np.mean(np.log(contrast_transp))\n",
    "print('SAMLG in transparency region: ', samlg_trasp.round(3))\n"
   ]
  },
  {
   "cell_type": "code",
   "execution_count": null,
   "id": "4c616e02",
   "metadata": {},
   "outputs": [],
   "source": []
  }
 ],
 "metadata": {
  "kernelspec": {
   "display_name": "Python 3 (ipykernel)",
   "language": "python",
   "name": "python3"
  },
  "language_info": {
   "codemirror_mode": {
    "name": "ipython",
    "version": 3
   },
   "file_extension": ".py",
   "mimetype": "text/x-python",
   "name": "python",
   "nbconvert_exporter": "python",
   "pygments_lexer": "ipython3",
   "version": "3.8.13"
  }
 },
 "nbformat": 4,
 "nbformat_minor": 5
}
